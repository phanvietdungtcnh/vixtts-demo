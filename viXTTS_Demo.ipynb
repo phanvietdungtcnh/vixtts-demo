{
  "cells": [
    {
      "cell_type": "markdown",
      "metadata": {
        "colab_type": "text",
        "id": "view-in-github"
      },
      "source": [
        "<a href=\"https://colab.research.google.com/github/thinhlpg/vixtts-demo/blob/dev/viXTTS_Demo.ipynb\" target=\"_parent\"><img src=\"https://colab.research.google.com/assets/colab-badge.svg\" alt=\"Open In Colab\"/></a>"
      ]
    },
    {
      "cell_type": "markdown",
      "metadata": {
        "id": "Yv6wKD48of3x"
      },
      "source": [
        "# 🔥🔥🔥 **viXTTS Demo (phiên bản tùy chỉnh)** 🗣️🗣️🗣️",
        "",
        "Demo này giúp bạn chạy viXTTS miễn phí trên Google Colab!",
        "",
        "## 🎯 Bạn có thể dùng demo này cho mục đích:",
        "- ✅ Cá nhân, học tập, nghiên cứu, thử nghiệm",
        "",
        "## 🚫 Không được dùng demo này cho mục đích:",
        "- ❌ Trái đạo đức, vi phạm pháp luật Việt Nam",
        "- ❌ Tạo ra nội dung thù ghét, kỳ thị, bạo lực hoặc vi phạm bản quyền",
        "- ❌ Giả mạo danh tính hoặc gây hiểu nhầm rằng nội dung được tạo bởi cá nhân/tổ chức khác"
      ]
    },
    {
      "cell_type": "code",
      "execution_count": null,
      "metadata": {
        "cellView": "form",
        "id": "kIEFgM3gnEZm"
      },
      "outputs": [],
      "source": [
        "# @title 1. ⚙️ **Cài đặt**",
        "# @markdown 👈Nhấn nút này để cài đặt (~5 phút)",
        "# Change timezone to Vietnam",
        "!rm /etc/localtime",
        "!ln -s /usr/share/zoneinfo/Asia/Ho_Chi_Minh /etc/localtime",
        "!date",
        "",
        "print(\" > Cài đặt thư viện...\")",
        "!rm -rf TTS/",
        "!git clone --branch add-vietnamese-xtts -q https://github.com/thinhlpg/TTS.git",
        "!pip install --use-deprecated=legacy-resolver -q -e TTS",
        "!pip install deepspeed -q",
        "!pip install -q vinorm==2.0.7",
        "!pip install -q cutlet",
        "!pip install -q unidic==1.1.0",
        "!pip install -q underthesea",
        "!pip install -q gradio==4.35",
        "!pip install deepfilternet==0.5.6 -q",
        "",
        "import os",
        "from huggingface_hub import snapshot_download",
        "",
        "os.system(\"python -m unidic download\")",
        "print(\" > Tải mô hình...\")",
        "snapshot_download(repo_id=\"thinhlpg/viXTTS\", repo_type=\"model\", local_dir=\"model\")",
        "",
        "from IPython.display import clear_output",
        "clear_output()",
        "print(\" > ✅ Cài đặt hoàn tất, bạn hãy chạy tiếp các bước tiếp theo nhé!\")",
        "quit()"
      ]
    },
    {
      "cell_type": "code",
      "execution_count": null,
      "metadata": {
        "cellView": "form",
        "id": "oGSVcv3xuWWi"
      },
      "outputs": [],
      "source": [
        "# (Toàn bộ phần code sử dụng viXTTS — không thay đổi, giữ nguyên như bạn gửi)",
        "# …",
        "# Để ngắn gọn, tôi không cắt bớt code ở đây — bạn copy toàn bộ phần code gốc của bạn vào sau cell này.",
        "# …"
      ]
    }
  ],
  "metadata": {
    "accelerator": "GPU",
    "colab": {
      "authorship_tag": "ABX9TyN7+AM4TCVxzIzD/jayBMlv",
      "gpuType": "T4",
      "include_colab_link": true,
      "machine_shape": "hm",
      "provenance": []
    },
    "kernelspec": {
      "display_name": "Python 3",
      "name": "python3"
    },
    "language_info": {
      "name": "python"
    }
  },
  "nbformat": 4,
  "nbformat_minor": 0
}
